{
 "cells": [
  {
   "cell_type": "markdown",
   "metadata": {},
   "source": [
    "<h1><center>Coursework 1 - Individual Report</h1></center>\n",
    "<h2><center>Friday 13th December 2019</center></h2>\n",
    "\n",
    "<h3> CST4050 - Modelling, Regression and Machine-Learning</h3>\n",
    "<h3>Student ID - M00740541</h3>"
   ]
  },
  {
   "cell_type": "markdown",
   "metadata": {},
   "source": [
    "<h3>Task 1: Open the data provided on UniHub and get a summary of the data. Standardise your data if\n",
    "needed</h3>\n",
    "<p> The first step is to import the librarys required for the task and to read in the data file.</p>"
   ]
  },
  {
   "cell_type": "code",
   "execution_count": 3,
   "metadata": {},
   "outputs": [],
   "source": [
    "import warnings\n",
    "warnings.filterwarnings('ignore')"
   ]
  },
  {
   "cell_type": "code",
   "execution_count": 4,
   "metadata": {},
   "outputs": [
    {
     "ename": "FileNotFoundError",
     "evalue": "[Errno 2] File /Users/EllenTaylor/Desktop/ML Coursework 1/synthetic-4.csv does not exist: '/Users/EllenTaylor/Desktop/ML Coursework 1/synthetic-4.csv'",
     "output_type": "error",
     "traceback": [
      "\u001b[0;31m---------------------------------------------------------------------------\u001b[0m",
      "\u001b[0;31mFileNotFoundError\u001b[0m                         Traceback (most recent call last)",
      "\u001b[0;32m<ipython-input-4-d07c19159a71>\u001b[0m in \u001b[0;36m<module>\u001b[0;34m\u001b[0m\n\u001b[1;32m     10\u001b[0m \u001b[0;34m\u001b[0m\u001b[0m\n\u001b[1;32m     11\u001b[0m \u001b[0;34m\u001b[0m\u001b[0m\n\u001b[0;32m---> 12\u001b[0;31m \u001b[0mmydata\u001b[0m \u001b[0;34m=\u001b[0m \u001b[0mpd\u001b[0m\u001b[0;34m.\u001b[0m\u001b[0mread_csv\u001b[0m \u001b[0;34m(\u001b[0m\u001b[0;34mr'/Users/EllenTaylor/Desktop/ML Coursework 1/synthetic-4.csv'\u001b[0m\u001b[0;34m)\u001b[0m\u001b[0;34m\u001b[0m\u001b[0;34m\u001b[0m\u001b[0m\n\u001b[0m",
      "\u001b[0;32m~/opt/anaconda3/lib/python3.7/site-packages/pandas/io/parsers.py\u001b[0m in \u001b[0;36mparser_f\u001b[0;34m(filepath_or_buffer, sep, delimiter, header, names, index_col, usecols, squeeze, prefix, mangle_dupe_cols, dtype, engine, converters, true_values, false_values, skipinitialspace, skiprows, skipfooter, nrows, na_values, keep_default_na, na_filter, verbose, skip_blank_lines, parse_dates, infer_datetime_format, keep_date_col, date_parser, dayfirst, cache_dates, iterator, chunksize, compression, thousands, decimal, lineterminator, quotechar, quoting, doublequote, escapechar, comment, encoding, dialect, error_bad_lines, warn_bad_lines, delim_whitespace, low_memory, memory_map, float_precision)\u001b[0m\n\u001b[1;32m    674\u001b[0m         )\n\u001b[1;32m    675\u001b[0m \u001b[0;34m\u001b[0m\u001b[0m\n\u001b[0;32m--> 676\u001b[0;31m         \u001b[0;32mreturn\u001b[0m \u001b[0m_read\u001b[0m\u001b[0;34m(\u001b[0m\u001b[0mfilepath_or_buffer\u001b[0m\u001b[0;34m,\u001b[0m \u001b[0mkwds\u001b[0m\u001b[0;34m)\u001b[0m\u001b[0;34m\u001b[0m\u001b[0;34m\u001b[0m\u001b[0m\n\u001b[0m\u001b[1;32m    677\u001b[0m \u001b[0;34m\u001b[0m\u001b[0m\n\u001b[1;32m    678\u001b[0m     \u001b[0mparser_f\u001b[0m\u001b[0;34m.\u001b[0m\u001b[0m__name__\u001b[0m \u001b[0;34m=\u001b[0m \u001b[0mname\u001b[0m\u001b[0;34m\u001b[0m\u001b[0;34m\u001b[0m\u001b[0m\n",
      "\u001b[0;32m~/opt/anaconda3/lib/python3.7/site-packages/pandas/io/parsers.py\u001b[0m in \u001b[0;36m_read\u001b[0;34m(filepath_or_buffer, kwds)\u001b[0m\n\u001b[1;32m    446\u001b[0m \u001b[0;34m\u001b[0m\u001b[0m\n\u001b[1;32m    447\u001b[0m     \u001b[0;31m# Create the parser.\u001b[0m\u001b[0;34m\u001b[0m\u001b[0;34m\u001b[0m\u001b[0;34m\u001b[0m\u001b[0m\n\u001b[0;32m--> 448\u001b[0;31m     \u001b[0mparser\u001b[0m \u001b[0;34m=\u001b[0m \u001b[0mTextFileReader\u001b[0m\u001b[0;34m(\u001b[0m\u001b[0mfp_or_buf\u001b[0m\u001b[0;34m,\u001b[0m \u001b[0;34m**\u001b[0m\u001b[0mkwds\u001b[0m\u001b[0;34m)\u001b[0m\u001b[0;34m\u001b[0m\u001b[0;34m\u001b[0m\u001b[0m\n\u001b[0m\u001b[1;32m    449\u001b[0m \u001b[0;34m\u001b[0m\u001b[0m\n\u001b[1;32m    450\u001b[0m     \u001b[0;32mif\u001b[0m \u001b[0mchunksize\u001b[0m \u001b[0;32mor\u001b[0m \u001b[0miterator\u001b[0m\u001b[0;34m:\u001b[0m\u001b[0;34m\u001b[0m\u001b[0;34m\u001b[0m\u001b[0m\n",
      "\u001b[0;32m~/opt/anaconda3/lib/python3.7/site-packages/pandas/io/parsers.py\u001b[0m in \u001b[0;36m__init__\u001b[0;34m(self, f, engine, **kwds)\u001b[0m\n\u001b[1;32m    878\u001b[0m             \u001b[0mself\u001b[0m\u001b[0;34m.\u001b[0m\u001b[0moptions\u001b[0m\u001b[0;34m[\u001b[0m\u001b[0;34m\"has_index_names\"\u001b[0m\u001b[0;34m]\u001b[0m \u001b[0;34m=\u001b[0m \u001b[0mkwds\u001b[0m\u001b[0;34m[\u001b[0m\u001b[0;34m\"has_index_names\"\u001b[0m\u001b[0;34m]\u001b[0m\u001b[0;34m\u001b[0m\u001b[0;34m\u001b[0m\u001b[0m\n\u001b[1;32m    879\u001b[0m \u001b[0;34m\u001b[0m\u001b[0m\n\u001b[0;32m--> 880\u001b[0;31m         \u001b[0mself\u001b[0m\u001b[0;34m.\u001b[0m\u001b[0m_make_engine\u001b[0m\u001b[0;34m(\u001b[0m\u001b[0mself\u001b[0m\u001b[0;34m.\u001b[0m\u001b[0mengine\u001b[0m\u001b[0;34m)\u001b[0m\u001b[0;34m\u001b[0m\u001b[0;34m\u001b[0m\u001b[0m\n\u001b[0m\u001b[1;32m    881\u001b[0m \u001b[0;34m\u001b[0m\u001b[0m\n\u001b[1;32m    882\u001b[0m     \u001b[0;32mdef\u001b[0m \u001b[0mclose\u001b[0m\u001b[0;34m(\u001b[0m\u001b[0mself\u001b[0m\u001b[0;34m)\u001b[0m\u001b[0;34m:\u001b[0m\u001b[0;34m\u001b[0m\u001b[0;34m\u001b[0m\u001b[0m\n",
      "\u001b[0;32m~/opt/anaconda3/lib/python3.7/site-packages/pandas/io/parsers.py\u001b[0m in \u001b[0;36m_make_engine\u001b[0;34m(self, engine)\u001b[0m\n\u001b[1;32m   1112\u001b[0m     \u001b[0;32mdef\u001b[0m \u001b[0m_make_engine\u001b[0m\u001b[0;34m(\u001b[0m\u001b[0mself\u001b[0m\u001b[0;34m,\u001b[0m \u001b[0mengine\u001b[0m\u001b[0;34m=\u001b[0m\u001b[0;34m\"c\"\u001b[0m\u001b[0;34m)\u001b[0m\u001b[0;34m:\u001b[0m\u001b[0;34m\u001b[0m\u001b[0;34m\u001b[0m\u001b[0m\n\u001b[1;32m   1113\u001b[0m         \u001b[0;32mif\u001b[0m \u001b[0mengine\u001b[0m \u001b[0;34m==\u001b[0m \u001b[0;34m\"c\"\u001b[0m\u001b[0;34m:\u001b[0m\u001b[0;34m\u001b[0m\u001b[0;34m\u001b[0m\u001b[0m\n\u001b[0;32m-> 1114\u001b[0;31m             \u001b[0mself\u001b[0m\u001b[0;34m.\u001b[0m\u001b[0m_engine\u001b[0m \u001b[0;34m=\u001b[0m \u001b[0mCParserWrapper\u001b[0m\u001b[0;34m(\u001b[0m\u001b[0mself\u001b[0m\u001b[0;34m.\u001b[0m\u001b[0mf\u001b[0m\u001b[0;34m,\u001b[0m \u001b[0;34m**\u001b[0m\u001b[0mself\u001b[0m\u001b[0;34m.\u001b[0m\u001b[0moptions\u001b[0m\u001b[0;34m)\u001b[0m\u001b[0;34m\u001b[0m\u001b[0;34m\u001b[0m\u001b[0m\n\u001b[0m\u001b[1;32m   1115\u001b[0m         \u001b[0;32melse\u001b[0m\u001b[0;34m:\u001b[0m\u001b[0;34m\u001b[0m\u001b[0;34m\u001b[0m\u001b[0m\n\u001b[1;32m   1116\u001b[0m             \u001b[0;32mif\u001b[0m \u001b[0mengine\u001b[0m \u001b[0;34m==\u001b[0m \u001b[0;34m\"python\"\u001b[0m\u001b[0;34m:\u001b[0m\u001b[0;34m\u001b[0m\u001b[0;34m\u001b[0m\u001b[0m\n",
      "\u001b[0;32m~/opt/anaconda3/lib/python3.7/site-packages/pandas/io/parsers.py\u001b[0m in \u001b[0;36m__init__\u001b[0;34m(self, src, **kwds)\u001b[0m\n\u001b[1;32m   1889\u001b[0m         \u001b[0mkwds\u001b[0m\u001b[0;34m[\u001b[0m\u001b[0;34m\"usecols\"\u001b[0m\u001b[0;34m]\u001b[0m \u001b[0;34m=\u001b[0m \u001b[0mself\u001b[0m\u001b[0;34m.\u001b[0m\u001b[0musecols\u001b[0m\u001b[0;34m\u001b[0m\u001b[0;34m\u001b[0m\u001b[0m\n\u001b[1;32m   1890\u001b[0m \u001b[0;34m\u001b[0m\u001b[0m\n\u001b[0;32m-> 1891\u001b[0;31m         \u001b[0mself\u001b[0m\u001b[0;34m.\u001b[0m\u001b[0m_reader\u001b[0m \u001b[0;34m=\u001b[0m \u001b[0mparsers\u001b[0m\u001b[0;34m.\u001b[0m\u001b[0mTextReader\u001b[0m\u001b[0;34m(\u001b[0m\u001b[0msrc\u001b[0m\u001b[0;34m,\u001b[0m \u001b[0;34m**\u001b[0m\u001b[0mkwds\u001b[0m\u001b[0;34m)\u001b[0m\u001b[0;34m\u001b[0m\u001b[0;34m\u001b[0m\u001b[0m\n\u001b[0m\u001b[1;32m   1892\u001b[0m         \u001b[0mself\u001b[0m\u001b[0;34m.\u001b[0m\u001b[0munnamed_cols\u001b[0m \u001b[0;34m=\u001b[0m \u001b[0mself\u001b[0m\u001b[0;34m.\u001b[0m\u001b[0m_reader\u001b[0m\u001b[0;34m.\u001b[0m\u001b[0munnamed_cols\u001b[0m\u001b[0;34m\u001b[0m\u001b[0;34m\u001b[0m\u001b[0m\n\u001b[1;32m   1893\u001b[0m \u001b[0;34m\u001b[0m\u001b[0m\n",
      "\u001b[0;32mpandas/_libs/parsers.pyx\u001b[0m in \u001b[0;36mpandas._libs.parsers.TextReader.__cinit__\u001b[0;34m()\u001b[0m\n",
      "\u001b[0;32mpandas/_libs/parsers.pyx\u001b[0m in \u001b[0;36mpandas._libs.parsers.TextReader._setup_parser_source\u001b[0;34m()\u001b[0m\n",
      "\u001b[0;31mFileNotFoundError\u001b[0m: [Errno 2] File /Users/EllenTaylor/Desktop/ML Coursework 1/synthetic-4.csv does not exist: '/Users/EllenTaylor/Desktop/ML Coursework 1/synthetic-4.csv'"
     ]
    }
   ],
   "source": [
    "import pandas as pd\n",
    "import numpy as np\n",
    "import matplotlib.pyplot as plt\n",
    "from sklearn.model_selection import KFold\n",
    "from sklearn.preprocessing import StandardScaler\n",
    "from sklearn.neighbors import KNeighborsClassifier\n",
    "from sklearn.metrics import f1_score\n",
    "from random import seed\n",
    "from sklearn.metrics import confusion_matrix\n",
    "\n",
    "\n",
    "mydata = pd.read_csv (r'/Users/EllenTaylor/Desktop/ML Coursework 1/synthetic-4.csv')\n"
   ]
  },
  {
   "cell_type": "markdown",
   "metadata": {},
   "source": [
    "<p>The 2 steps below provide a summary of the data set.</p>\n",
    "<p> As can be seen, the data is not standardised. To ensure the test data isn't touched standardisation will be applied after k-fold cross validation. This ensures the test data is unseen.</p>"
   ]
  },
  {
   "cell_type": "code",
   "execution_count": 2,
   "metadata": {
    "scrolled": true
   },
   "outputs": [
    {
     "ename": "NameError",
     "evalue": "name 'mydata' is not defined",
     "output_type": "error",
     "traceback": [
      "\u001b[0;31m---------------------------------------------------------------------------\u001b[0m",
      "\u001b[0;31mNameError\u001b[0m                                 Traceback (most recent call last)",
      "\u001b[0;32m<ipython-input-2-1c5de0ab0f9d>\u001b[0m in \u001b[0;36m<module>\u001b[0;34m\u001b[0m\n\u001b[0;32m----> 1\u001b[0;31m \u001b[0mprint\u001b[0m\u001b[0;34m(\u001b[0m\u001b[0mmydata\u001b[0m\u001b[0;34m)\u001b[0m\u001b[0;34m\u001b[0m\u001b[0;34m\u001b[0m\u001b[0m\n\u001b[0m",
      "\u001b[0;31mNameError\u001b[0m: name 'mydata' is not defined"
     ]
    }
   ],
   "source": [
    "print(mydata)"
   ]
  },
  {
   "cell_type": "code",
   "execution_count": 5,
   "metadata": {},
   "outputs": [
    {
     "data": {
      "text/plain": [
       "(1000, 31)"
      ]
     },
     "execution_count": 5,
     "metadata": {},
     "output_type": "execute_result"
    }
   ],
   "source": [
    "mydata.shape"
   ]
  },
  {
   "cell_type": "markdown",
   "metadata": {},
   "source": [
    "<p> The statement above identifies the number of rows and columns in the datset. The data contains 1000 rows (observations) and 31 variables.</p>"
   ]
  },
  {
   "cell_type": "markdown",
   "metadata": {},
   "source": [
    "<h3>Task 2: Use train-test, 10-fold cross validation or, much better, 10-fold cross validation + validation set.</h3>\n",
    "<p> The below step splits the data into 10 folds</p>"
   ]
  },
  {
   "cell_type": "code",
   "execution_count": 6,
   "metadata": {},
   "outputs": [
    {
     "data": {
      "text/plain": [
       "10"
      ]
     },
     "execution_count": 6,
     "metadata": {},
     "output_type": "execute_result"
    }
   ],
   "source": [
    "nfolds = 10\n",
    "kf = KFold(n_splits = nfolds, shuffle = True, random_state=0)\n",
    "kf.get_n_splits(mydata)"
   ]
  },
  {
   "cell_type": "markdown",
   "metadata": {},
   "source": [
    "<h3>Task 3: Train and tune your classifier.</h3>\n",
    "<p> The below steps uses K Nearest Neighbour to train and tune the classifier. The accuracy for the classifer is then checked using F Score.</p>\n",
    "<p>Additionally in this step, the train data is standardised</p>"
   ]
  },
  {
   "cell_type": "code",
   "execution_count": 7,
   "metadata": {},
   "outputs": [],
   "source": [
    "for train_index, test_index in kf.split(mydata):\n",
    "    x_train, x_test = mydata.loc[train_index].drop(['y'], axis=1), mydata.loc[test_index].drop(['y'], axis=1) \n",
    "    y_train, y_test = mydata.loc[train_index][[\"y\"]], mydata.loc[test_index][[\"y\"]]\n",
    "        \n",
    "    fscore_train_k = np.array([])\n",
    "    fscore_test_k = np.array([])\n",
    "\n",
    "\n",
    "    scaler = StandardScaler() \n",
    "    scaler.fit(x_train)\n",
    "    x_train = scaler.transform(x_train) \n",
    "    x_test = scaler.transform(x_test)"
   ]
  },
  {
   "cell_type": "markdown",
   "metadata": {},
   "source": [
    "<p>The below provides an overview of one of the Train K Folds to show that the train data has been standardised and the standard deviation is the same across all attributes.</p>"
   ]
  },
  {
   "cell_type": "code",
   "execution_count": 8,
   "metadata": {},
   "outputs": [
    {
     "data": {
      "text/html": [
       "<div>\n",
       "<style scoped>\n",
       "    .dataframe tbody tr th:only-of-type {\n",
       "        vertical-align: middle;\n",
       "    }\n",
       "\n",
       "    .dataframe tbody tr th {\n",
       "        vertical-align: top;\n",
       "    }\n",
       "\n",
       "    .dataframe thead th {\n",
       "        text-align: right;\n",
       "    }\n",
       "</style>\n",
       "<table border=\"1\" class=\"dataframe\">\n",
       "  <thead>\n",
       "    <tr style=\"text-align: right;\">\n",
       "      <th></th>\n",
       "      <th>0</th>\n",
       "      <th>1</th>\n",
       "      <th>2</th>\n",
       "      <th>3</th>\n",
       "      <th>4</th>\n",
       "      <th>5</th>\n",
       "      <th>6</th>\n",
       "      <th>7</th>\n",
       "      <th>8</th>\n",
       "      <th>9</th>\n",
       "      <th>...</th>\n",
       "      <th>20</th>\n",
       "      <th>21</th>\n",
       "      <th>22</th>\n",
       "      <th>23</th>\n",
       "      <th>24</th>\n",
       "      <th>25</th>\n",
       "      <th>26</th>\n",
       "      <th>27</th>\n",
       "      <th>28</th>\n",
       "      <th>29</th>\n",
       "    </tr>\n",
       "  </thead>\n",
       "  <tbody>\n",
       "    <tr>\n",
       "      <td>count</td>\n",
       "      <td>9.000000e+02</td>\n",
       "      <td>9.000000e+02</td>\n",
       "      <td>9.000000e+02</td>\n",
       "      <td>9.000000e+02</td>\n",
       "      <td>9.000000e+02</td>\n",
       "      <td>9.000000e+02</td>\n",
       "      <td>9.000000e+02</td>\n",
       "      <td>9.000000e+02</td>\n",
       "      <td>9.000000e+02</td>\n",
       "      <td>9.000000e+02</td>\n",
       "      <td>...</td>\n",
       "      <td>9.000000e+02</td>\n",
       "      <td>9.000000e+02</td>\n",
       "      <td>9.000000e+02</td>\n",
       "      <td>9.000000e+02</td>\n",
       "      <td>9.000000e+02</td>\n",
       "      <td>9.000000e+02</td>\n",
       "      <td>9.000000e+02</td>\n",
       "      <td>9.000000e+02</td>\n",
       "      <td>9.000000e+02</td>\n",
       "      <td>9.000000e+02</td>\n",
       "    </tr>\n",
       "    <tr>\n",
       "      <td>mean</td>\n",
       "      <td>6.180242e-17</td>\n",
       "      <td>2.675021e-16</td>\n",
       "      <td>1.791777e-17</td>\n",
       "      <td>5.082354e-17</td>\n",
       "      <td>-1.868875e-17</td>\n",
       "      <td>8.946547e-17</td>\n",
       "      <td>1.500035e-16</td>\n",
       "      <td>2.171103e-17</td>\n",
       "      <td>-2.590520e-17</td>\n",
       "      <td>-2.444958e-16</td>\n",
       "      <td>...</td>\n",
       "      <td>1.844204e-17</td>\n",
       "      <td>-4.815901e-16</td>\n",
       "      <td>3.624139e-17</td>\n",
       "      <td>-1.238515e-16</td>\n",
       "      <td>-3.207311e-17</td>\n",
       "      <td>3.318333e-17</td>\n",
       "      <td>-4.849516e-18</td>\n",
       "      <td>-2.827368e-16</td>\n",
       "      <td>9.005142e-18</td>\n",
       "      <td>-4.132497e-18</td>\n",
       "    </tr>\n",
       "    <tr>\n",
       "      <td>std</td>\n",
       "      <td>1.000556e+00</td>\n",
       "      <td>1.000556e+00</td>\n",
       "      <td>1.000556e+00</td>\n",
       "      <td>1.000556e+00</td>\n",
       "      <td>1.000556e+00</td>\n",
       "      <td>1.000556e+00</td>\n",
       "      <td>1.000556e+00</td>\n",
       "      <td>1.000556e+00</td>\n",
       "      <td>1.000556e+00</td>\n",
       "      <td>1.000556e+00</td>\n",
       "      <td>...</td>\n",
       "      <td>1.000556e+00</td>\n",
       "      <td>1.000556e+00</td>\n",
       "      <td>1.000556e+00</td>\n",
       "      <td>1.000556e+00</td>\n",
       "      <td>1.000556e+00</td>\n",
       "      <td>1.000556e+00</td>\n",
       "      <td>1.000556e+00</td>\n",
       "      <td>1.000556e+00</td>\n",
       "      <td>1.000556e+00</td>\n",
       "      <td>1.000556e+00</td>\n",
       "    </tr>\n",
       "    <tr>\n",
       "      <td>min</td>\n",
       "      <td>-3.444493e+00</td>\n",
       "      <td>-2.870404e+00</td>\n",
       "      <td>-3.447009e+00</td>\n",
       "      <td>-4.529718e+00</td>\n",
       "      <td>-3.322121e+00</td>\n",
       "      <td>-3.034552e+00</td>\n",
       "      <td>-2.723916e+00</td>\n",
       "      <td>-3.202667e+00</td>\n",
       "      <td>-3.374126e+00</td>\n",
       "      <td>-2.961825e+00</td>\n",
       "      <td>...</td>\n",
       "      <td>-3.178763e+00</td>\n",
       "      <td>-3.306153e+00</td>\n",
       "      <td>-2.993486e+00</td>\n",
       "      <td>-3.621101e+00</td>\n",
       "      <td>-2.998818e+00</td>\n",
       "      <td>-3.126295e+00</td>\n",
       "      <td>-3.073631e+00</td>\n",
       "      <td>-2.948442e+00</td>\n",
       "      <td>-3.167711e+00</td>\n",
       "      <td>-2.625669e+00</td>\n",
       "    </tr>\n",
       "    <tr>\n",
       "      <td>25%</td>\n",
       "      <td>-6.995410e-01</td>\n",
       "      <td>-6.792286e-01</td>\n",
       "      <td>-6.717287e-01</td>\n",
       "      <td>-6.943199e-01</td>\n",
       "      <td>-7.034000e-01</td>\n",
       "      <td>-6.624167e-01</td>\n",
       "      <td>-6.970762e-01</td>\n",
       "      <td>-6.609552e-01</td>\n",
       "      <td>-6.651992e-01</td>\n",
       "      <td>-6.772248e-01</td>\n",
       "      <td>...</td>\n",
       "      <td>-6.589815e-01</td>\n",
       "      <td>-7.016020e-01</td>\n",
       "      <td>-7.053077e-01</td>\n",
       "      <td>-6.555322e-01</td>\n",
       "      <td>-6.792466e-01</td>\n",
       "      <td>-6.847489e-01</td>\n",
       "      <td>-6.849091e-01</td>\n",
       "      <td>-6.633564e-01</td>\n",
       "      <td>-6.384952e-01</td>\n",
       "      <td>-6.594725e-01</td>\n",
       "    </tr>\n",
       "    <tr>\n",
       "      <td>50%</td>\n",
       "      <td>-5.026679e-03</td>\n",
       "      <td>-4.798186e-03</td>\n",
       "      <td>-1.254354e-02</td>\n",
       "      <td>1.117791e-02</td>\n",
       "      <td>2.982626e-02</td>\n",
       "      <td>-4.857394e-02</td>\n",
       "      <td>5.750235e-03</td>\n",
       "      <td>-6.860382e-03</td>\n",
       "      <td>-3.307517e-03</td>\n",
       "      <td>-6.313367e-04</td>\n",
       "      <td>...</td>\n",
       "      <td>1.809949e-02</td>\n",
       "      <td>2.225186e-02</td>\n",
       "      <td>3.932323e-02</td>\n",
       "      <td>4.448263e-02</td>\n",
       "      <td>1.935974e-02</td>\n",
       "      <td>-1.994844e-02</td>\n",
       "      <td>2.839280e-02</td>\n",
       "      <td>3.386265e-03</td>\n",
       "      <td>-4.569227e-02</td>\n",
       "      <td>7.426199e-03</td>\n",
       "    </tr>\n",
       "    <tr>\n",
       "      <td>75%</td>\n",
       "      <td>6.771675e-01</td>\n",
       "      <td>6.392111e-01</td>\n",
       "      <td>6.789661e-01</td>\n",
       "      <td>6.521115e-01</td>\n",
       "      <td>6.638758e-01</td>\n",
       "      <td>6.559018e-01</td>\n",
       "      <td>6.496716e-01</td>\n",
       "      <td>6.827410e-01</td>\n",
       "      <td>6.956767e-01</td>\n",
       "      <td>6.453289e-01</td>\n",
       "      <td>...</td>\n",
       "      <td>6.803760e-01</td>\n",
       "      <td>6.878995e-01</td>\n",
       "      <td>6.430699e-01</td>\n",
       "      <td>6.989192e-01</td>\n",
       "      <td>7.120494e-01</td>\n",
       "      <td>6.640773e-01</td>\n",
       "      <td>6.610432e-01</td>\n",
       "      <td>7.021023e-01</td>\n",
       "      <td>6.767347e-01</td>\n",
       "      <td>7.046859e-01</td>\n",
       "    </tr>\n",
       "    <tr>\n",
       "      <td>max</td>\n",
       "      <td>2.920076e+00</td>\n",
       "      <td>2.910959e+00</td>\n",
       "      <td>3.577923e+00</td>\n",
       "      <td>3.321272e+00</td>\n",
       "      <td>4.107128e+00</td>\n",
       "      <td>3.639517e+00</td>\n",
       "      <td>2.981926e+00</td>\n",
       "      <td>3.376415e+00</td>\n",
       "      <td>2.897959e+00</td>\n",
       "      <td>3.337897e+00</td>\n",
       "      <td>...</td>\n",
       "      <td>3.482533e+00</td>\n",
       "      <td>2.918514e+00</td>\n",
       "      <td>3.077345e+00</td>\n",
       "      <td>3.107379e+00</td>\n",
       "      <td>3.313214e+00</td>\n",
       "      <td>2.936643e+00</td>\n",
       "      <td>3.260529e+00</td>\n",
       "      <td>2.985453e+00</td>\n",
       "      <td>2.885547e+00</td>\n",
       "      <td>3.803516e+00</td>\n",
       "    </tr>\n",
       "  </tbody>\n",
       "</table>\n",
       "<p>8 rows × 30 columns</p>\n",
       "</div>"
      ],
      "text/plain": [
       "                 0             1             2             3             4   \\\n",
       "count  9.000000e+02  9.000000e+02  9.000000e+02  9.000000e+02  9.000000e+02   \n",
       "mean   6.180242e-17  2.675021e-16  1.791777e-17  5.082354e-17 -1.868875e-17   \n",
       "std    1.000556e+00  1.000556e+00  1.000556e+00  1.000556e+00  1.000556e+00   \n",
       "min   -3.444493e+00 -2.870404e+00 -3.447009e+00 -4.529718e+00 -3.322121e+00   \n",
       "25%   -6.995410e-01 -6.792286e-01 -6.717287e-01 -6.943199e-01 -7.034000e-01   \n",
       "50%   -5.026679e-03 -4.798186e-03 -1.254354e-02  1.117791e-02  2.982626e-02   \n",
       "75%    6.771675e-01  6.392111e-01  6.789661e-01  6.521115e-01  6.638758e-01   \n",
       "max    2.920076e+00  2.910959e+00  3.577923e+00  3.321272e+00  4.107128e+00   \n",
       "\n",
       "                 5             6             7             8             9   \\\n",
       "count  9.000000e+02  9.000000e+02  9.000000e+02  9.000000e+02  9.000000e+02   \n",
       "mean   8.946547e-17  1.500035e-16  2.171103e-17 -2.590520e-17 -2.444958e-16   \n",
       "std    1.000556e+00  1.000556e+00  1.000556e+00  1.000556e+00  1.000556e+00   \n",
       "min   -3.034552e+00 -2.723916e+00 -3.202667e+00 -3.374126e+00 -2.961825e+00   \n",
       "25%   -6.624167e-01 -6.970762e-01 -6.609552e-01 -6.651992e-01 -6.772248e-01   \n",
       "50%   -4.857394e-02  5.750235e-03 -6.860382e-03 -3.307517e-03 -6.313367e-04   \n",
       "75%    6.559018e-01  6.496716e-01  6.827410e-01  6.956767e-01  6.453289e-01   \n",
       "max    3.639517e+00  2.981926e+00  3.376415e+00  2.897959e+00  3.337897e+00   \n",
       "\n",
       "       ...            20            21            22            23  \\\n",
       "count  ...  9.000000e+02  9.000000e+02  9.000000e+02  9.000000e+02   \n",
       "mean   ...  1.844204e-17 -4.815901e-16  3.624139e-17 -1.238515e-16   \n",
       "std    ...  1.000556e+00  1.000556e+00  1.000556e+00  1.000556e+00   \n",
       "min    ... -3.178763e+00 -3.306153e+00 -2.993486e+00 -3.621101e+00   \n",
       "25%    ... -6.589815e-01 -7.016020e-01 -7.053077e-01 -6.555322e-01   \n",
       "50%    ...  1.809949e-02  2.225186e-02  3.932323e-02  4.448263e-02   \n",
       "75%    ...  6.803760e-01  6.878995e-01  6.430699e-01  6.989192e-01   \n",
       "max    ...  3.482533e+00  2.918514e+00  3.077345e+00  3.107379e+00   \n",
       "\n",
       "                 24            25            26            27            28  \\\n",
       "count  9.000000e+02  9.000000e+02  9.000000e+02  9.000000e+02  9.000000e+02   \n",
       "mean  -3.207311e-17  3.318333e-17 -4.849516e-18 -2.827368e-16  9.005142e-18   \n",
       "std    1.000556e+00  1.000556e+00  1.000556e+00  1.000556e+00  1.000556e+00   \n",
       "min   -2.998818e+00 -3.126295e+00 -3.073631e+00 -2.948442e+00 -3.167711e+00   \n",
       "25%   -6.792466e-01 -6.847489e-01 -6.849091e-01 -6.633564e-01 -6.384952e-01   \n",
       "50%    1.935974e-02 -1.994844e-02  2.839280e-02  3.386265e-03 -4.569227e-02   \n",
       "75%    7.120494e-01  6.640773e-01  6.610432e-01  7.021023e-01  6.767347e-01   \n",
       "max    3.313214e+00  2.936643e+00  3.260529e+00  2.985453e+00  2.885547e+00   \n",
       "\n",
       "                 29  \n",
       "count  9.000000e+02  \n",
       "mean  -4.132497e-18  \n",
       "std    1.000556e+00  \n",
       "min   -2.625669e+00  \n",
       "25%   -6.594725e-01  \n",
       "50%    7.426199e-03  \n",
       "75%    7.046859e-01  \n",
       "max    3.803516e+00  \n",
       "\n",
       "[8 rows x 30 columns]"
      ]
     },
     "execution_count": 8,
     "metadata": {},
     "output_type": "execute_result"
    }
   ],
   "source": [
    "pd.DataFrame(x_train).describe()"
   ]
  },
  {
   "cell_type": "markdown",
   "metadata": {},
   "source": [
    "<p>The below provides an overview of Test K Folds to show that the test data has not been standardised and the standard deviation is different across all attributes</p>"
   ]
  },
  {
   "cell_type": "code",
   "execution_count": 9,
   "metadata": {
    "scrolled": true
   },
   "outputs": [
    {
     "data": {
      "text/html": [
       "<div>\n",
       "<style scoped>\n",
       "    .dataframe tbody tr th:only-of-type {\n",
       "        vertical-align: middle;\n",
       "    }\n",
       "\n",
       "    .dataframe tbody tr th {\n",
       "        vertical-align: top;\n",
       "    }\n",
       "\n",
       "    .dataframe thead th {\n",
       "        text-align: right;\n",
       "    }\n",
       "</style>\n",
       "<table border=\"1\" class=\"dataframe\">\n",
       "  <thead>\n",
       "    <tr style=\"text-align: right;\">\n",
       "      <th></th>\n",
       "      <th>0</th>\n",
       "      <th>1</th>\n",
       "      <th>2</th>\n",
       "      <th>3</th>\n",
       "      <th>4</th>\n",
       "      <th>5</th>\n",
       "      <th>6</th>\n",
       "      <th>7</th>\n",
       "      <th>8</th>\n",
       "      <th>9</th>\n",
       "      <th>...</th>\n",
       "      <th>20</th>\n",
       "      <th>21</th>\n",
       "      <th>22</th>\n",
       "      <th>23</th>\n",
       "      <th>24</th>\n",
       "      <th>25</th>\n",
       "      <th>26</th>\n",
       "      <th>27</th>\n",
       "      <th>28</th>\n",
       "      <th>29</th>\n",
       "    </tr>\n",
       "  </thead>\n",
       "  <tbody>\n",
       "    <tr>\n",
       "      <td>count</td>\n",
       "      <td>100.000000</td>\n",
       "      <td>100.000000</td>\n",
       "      <td>100.000000</td>\n",
       "      <td>100.000000</td>\n",
       "      <td>100.000000</td>\n",
       "      <td>100.000000</td>\n",
       "      <td>100.000000</td>\n",
       "      <td>100.000000</td>\n",
       "      <td>100.000000</td>\n",
       "      <td>100.000000</td>\n",
       "      <td>...</td>\n",
       "      <td>100.000000</td>\n",
       "      <td>100.000000</td>\n",
       "      <td>100.000000</td>\n",
       "      <td>100.000000</td>\n",
       "      <td>100.000000</td>\n",
       "      <td>100.000000</td>\n",
       "      <td>100.000000</td>\n",
       "      <td>100.000000</td>\n",
       "      <td>100.000000</td>\n",
       "      <td>100.000000</td>\n",
       "    </tr>\n",
       "    <tr>\n",
       "      <td>mean</td>\n",
       "      <td>-0.048990</td>\n",
       "      <td>-0.035197</td>\n",
       "      <td>-0.181722</td>\n",
       "      <td>0.038307</td>\n",
       "      <td>0.002386</td>\n",
       "      <td>-0.077184</td>\n",
       "      <td>-0.051211</td>\n",
       "      <td>-0.027043</td>\n",
       "      <td>-0.046933</td>\n",
       "      <td>0.133835</td>\n",
       "      <td>...</td>\n",
       "      <td>-0.097555</td>\n",
       "      <td>-0.012376</td>\n",
       "      <td>0.112135</td>\n",
       "      <td>0.062928</td>\n",
       "      <td>-0.059227</td>\n",
       "      <td>0.123342</td>\n",
       "      <td>-0.003355</td>\n",
       "      <td>0.076777</td>\n",
       "      <td>-0.181600</td>\n",
       "      <td>-0.204253</td>\n",
       "    </tr>\n",
       "    <tr>\n",
       "      <td>std</td>\n",
       "      <td>1.052977</td>\n",
       "      <td>0.963341</td>\n",
       "      <td>0.989980</td>\n",
       "      <td>1.001604</td>\n",
       "      <td>0.998304</td>\n",
       "      <td>1.230920</td>\n",
       "      <td>1.035308</td>\n",
       "      <td>1.000407</td>\n",
       "      <td>0.888708</td>\n",
       "      <td>1.100496</td>\n",
       "      <td>...</td>\n",
       "      <td>0.962957</td>\n",
       "      <td>0.921979</td>\n",
       "      <td>0.942787</td>\n",
       "      <td>0.993103</td>\n",
       "      <td>1.087677</td>\n",
       "      <td>0.891426</td>\n",
       "      <td>1.065932</td>\n",
       "      <td>0.972465</td>\n",
       "      <td>0.992415</td>\n",
       "      <td>1.058371</td>\n",
       "    </tr>\n",
       "    <tr>\n",
       "      <td>min</td>\n",
       "      <td>-3.037110</td>\n",
       "      <td>-2.153279</td>\n",
       "      <td>-3.138590</td>\n",
       "      <td>-2.032543</td>\n",
       "      <td>-2.770003</td>\n",
       "      <td>-4.729572</td>\n",
       "      <td>-2.545403</td>\n",
       "      <td>-2.129333</td>\n",
       "      <td>-2.202102</td>\n",
       "      <td>-2.530765</td>\n",
       "      <td>...</td>\n",
       "      <td>-2.184734</td>\n",
       "      <td>-1.651312</td>\n",
       "      <td>-2.244542</td>\n",
       "      <td>-2.125344</td>\n",
       "      <td>-2.403901</td>\n",
       "      <td>-1.862744</td>\n",
       "      <td>-2.528961</td>\n",
       "      <td>-2.417704</td>\n",
       "      <td>-2.594131</td>\n",
       "      <td>-3.098451</td>\n",
       "    </tr>\n",
       "    <tr>\n",
       "      <td>25%</td>\n",
       "      <td>-0.766428</td>\n",
       "      <td>-0.739951</td>\n",
       "      <td>-0.773692</td>\n",
       "      <td>-0.560963</td>\n",
       "      <td>-0.652264</td>\n",
       "      <td>-0.790700</td>\n",
       "      <td>-0.693575</td>\n",
       "      <td>-0.635064</td>\n",
       "      <td>-0.639426</td>\n",
       "      <td>-0.636648</td>\n",
       "      <td>...</td>\n",
       "      <td>-0.817929</td>\n",
       "      <td>-0.753380</td>\n",
       "      <td>-0.494242</td>\n",
       "      <td>-0.755453</td>\n",
       "      <td>-0.849871</td>\n",
       "      <td>-0.450343</td>\n",
       "      <td>-0.701540</td>\n",
       "      <td>-0.547693</td>\n",
       "      <td>-0.879126</td>\n",
       "      <td>-0.822004</td>\n",
       "    </tr>\n",
       "    <tr>\n",
       "      <td>50%</td>\n",
       "      <td>-0.125909</td>\n",
       "      <td>-0.056613</td>\n",
       "      <td>-0.220969</td>\n",
       "      <td>-0.110087</td>\n",
       "      <td>0.045777</td>\n",
       "      <td>0.007772</td>\n",
       "      <td>-0.098350</td>\n",
       "      <td>-0.077487</td>\n",
       "      <td>-0.004797</td>\n",
       "      <td>0.252090</td>\n",
       "      <td>...</td>\n",
       "      <td>-0.122407</td>\n",
       "      <td>-0.094833</td>\n",
       "      <td>-0.002789</td>\n",
       "      <td>0.108541</td>\n",
       "      <td>-0.122461</td>\n",
       "      <td>0.102596</td>\n",
       "      <td>0.069287</td>\n",
       "      <td>0.072488</td>\n",
       "      <td>-0.283520</td>\n",
       "      <td>-0.113371</td>\n",
       "    </tr>\n",
       "    <tr>\n",
       "      <td>75%</td>\n",
       "      <td>0.692940</td>\n",
       "      <td>0.583204</td>\n",
       "      <td>0.350697</td>\n",
       "      <td>0.788667</td>\n",
       "      <td>0.739543</td>\n",
       "      <td>0.682811</td>\n",
       "      <td>0.626613</td>\n",
       "      <td>0.624409</td>\n",
       "      <td>0.576122</td>\n",
       "      <td>0.882696</td>\n",
       "      <td>...</td>\n",
       "      <td>0.439585</td>\n",
       "      <td>0.617811</td>\n",
       "      <td>0.808687</td>\n",
       "      <td>0.826892</td>\n",
       "      <td>0.781478</td>\n",
       "      <td>0.687901</td>\n",
       "      <td>0.753619</td>\n",
       "      <td>0.726708</td>\n",
       "      <td>0.604995</td>\n",
       "      <td>0.461175</td>\n",
       "    </tr>\n",
       "    <tr>\n",
       "      <td>max</td>\n",
       "      <td>2.653668</td>\n",
       "      <td>2.570047</td>\n",
       "      <td>1.852846</td>\n",
       "      <td>3.438509</td>\n",
       "      <td>2.190264</td>\n",
       "      <td>2.647930</td>\n",
       "      <td>2.930977</td>\n",
       "      <td>2.532246</td>\n",
       "      <td>1.721941</td>\n",
       "      <td>2.872635</td>\n",
       "      <td>...</td>\n",
       "      <td>2.210933</td>\n",
       "      <td>2.661311</td>\n",
       "      <td>2.229842</td>\n",
       "      <td>2.706817</td>\n",
       "      <td>2.234173</td>\n",
       "      <td>2.281540</td>\n",
       "      <td>2.456525</td>\n",
       "      <td>2.841630</td>\n",
       "      <td>2.007813</td>\n",
       "      <td>2.170023</td>\n",
       "    </tr>\n",
       "  </tbody>\n",
       "</table>\n",
       "<p>8 rows × 30 columns</p>\n",
       "</div>"
      ],
      "text/plain": [
       "               0           1           2           3           4           5   \\\n",
       "count  100.000000  100.000000  100.000000  100.000000  100.000000  100.000000   \n",
       "mean    -0.048990   -0.035197   -0.181722    0.038307    0.002386   -0.077184   \n",
       "std      1.052977    0.963341    0.989980    1.001604    0.998304    1.230920   \n",
       "min     -3.037110   -2.153279   -3.138590   -2.032543   -2.770003   -4.729572   \n",
       "25%     -0.766428   -0.739951   -0.773692   -0.560963   -0.652264   -0.790700   \n",
       "50%     -0.125909   -0.056613   -0.220969   -0.110087    0.045777    0.007772   \n",
       "75%      0.692940    0.583204    0.350697    0.788667    0.739543    0.682811   \n",
       "max      2.653668    2.570047    1.852846    3.438509    2.190264    2.647930   \n",
       "\n",
       "               6           7           8           9   ...          20  \\\n",
       "count  100.000000  100.000000  100.000000  100.000000  ...  100.000000   \n",
       "mean    -0.051211   -0.027043   -0.046933    0.133835  ...   -0.097555   \n",
       "std      1.035308    1.000407    0.888708    1.100496  ...    0.962957   \n",
       "min     -2.545403   -2.129333   -2.202102   -2.530765  ...   -2.184734   \n",
       "25%     -0.693575   -0.635064   -0.639426   -0.636648  ...   -0.817929   \n",
       "50%     -0.098350   -0.077487   -0.004797    0.252090  ...   -0.122407   \n",
       "75%      0.626613    0.624409    0.576122    0.882696  ...    0.439585   \n",
       "max      2.930977    2.532246    1.721941    2.872635  ...    2.210933   \n",
       "\n",
       "               21          22          23          24          25          26  \\\n",
       "count  100.000000  100.000000  100.000000  100.000000  100.000000  100.000000   \n",
       "mean    -0.012376    0.112135    0.062928   -0.059227    0.123342   -0.003355   \n",
       "std      0.921979    0.942787    0.993103    1.087677    0.891426    1.065932   \n",
       "min     -1.651312   -2.244542   -2.125344   -2.403901   -1.862744   -2.528961   \n",
       "25%     -0.753380   -0.494242   -0.755453   -0.849871   -0.450343   -0.701540   \n",
       "50%     -0.094833   -0.002789    0.108541   -0.122461    0.102596    0.069287   \n",
       "75%      0.617811    0.808687    0.826892    0.781478    0.687901    0.753619   \n",
       "max      2.661311    2.229842    2.706817    2.234173    2.281540    2.456525   \n",
       "\n",
       "               27          28          29  \n",
       "count  100.000000  100.000000  100.000000  \n",
       "mean     0.076777   -0.181600   -0.204253  \n",
       "std      0.972465    0.992415    1.058371  \n",
       "min     -2.417704   -2.594131   -3.098451  \n",
       "25%     -0.547693   -0.879126   -0.822004  \n",
       "50%      0.072488   -0.283520   -0.113371  \n",
       "75%      0.726708    0.604995    0.461175  \n",
       "max      2.841630    2.007813    2.170023  \n",
       "\n",
       "[8 rows x 30 columns]"
      ]
     },
     "execution_count": 9,
     "metadata": {},
     "output_type": "execute_result"
    }
   ],
   "source": [
    "pd.DataFrame(x_test).describe()"
   ]
  },
  {
   "cell_type": "markdown",
   "metadata": {},
   "source": [
    "<h6>Training and Tuning using K Nearest Neighbour (KNN)</h6>\n",
    "<p>The KNN model was tunned, by selecting K values from: 0 to 100 and getting the\n",
    "F Score of 10-fold testing for each value of K.<p>"
   ]
  },
  {
   "cell_type": "code",
   "execution_count": 10,
   "metadata": {},
   "outputs": [],
   "source": [
    "kvalues = range(1,100) \n",
    "fscore_acc = []\n",
    "\n",
    "penalties = np.array([])\n",
    "f_scores_train = np.array([]) \n",
    "f_scores_test = np.array([])\n",
    "\n",
    "for k in kvalues:\n",
    "    for train_index, test_index in kf.split(mydata):\n",
    "\n",
    "        knn = KNeighborsClassifier(n_neighbors = k)\n",
    "        knn.fit(x_train, np.ravel(y_train))\n",
    "\n",
    "        pred_train = knn.predict(x_train)\n",
    "        pred_test = knn.predict(x_test)\n",
    "        \n",
    "        fscore_train = f1_score(y_train, pred_train)\n",
    "        fscore_test = f1_score(y_test, pred_test)\n",
    "        \n",
    "        fscore_train_k = np.append(fscore_train_k,fscore_train)\n",
    "        fscore_test_k = np.append(fscore_test_k,fscore_test)\n",
    "     \n",
    "    penalties = np.append(penalties, k)\n",
    "    \n",
    "    f_scores_train=np.append(f_scores_train,fscore_train_k.mean())\n",
    "    f_scores_test=np.append(f_scores_test,fscore_test_k.mean())"
   ]
  },
  {
   "cell_type": "markdown",
   "metadata": {},
   "source": [
    "<h3>Task 4. Compute the accuracy of your tuned classifier and compare it to a baseline.</h3>"
   ]
  },
  {
   "cell_type": "markdown",
   "metadata": {},
   "source": [
    "<p> The below 2 steps shows the  F Score for Train and Test data to demonstrate the accuracy of the model.</p>"
   ]
  },
  {
   "cell_type": "code",
   "execution_count": 11,
   "metadata": {
    "scrolled": true
   },
   "outputs": [
    {
     "data": {
      "text/plain": [
       "array([1.        , 0.67532468, 0.61161996, 0.49800068, 0.4555434 ,\n",
       "       0.39677637, 0.36207205, 0.31875103, 0.29001762, 0.26101586,\n",
       "       0.23868575, 0.22008726, 0.20435007, 0.18975364, 0.17915468,\n",
       "       0.16893408, 0.15991589, 0.15103168, 0.14308264, 0.13592851,\n",
       "       0.12945572, 0.12357137, 0.1181987 , 0.11327376, 0.10874281,\n",
       "       0.10456039, 0.10068779, 0.09709179, 0.0937438 , 0.09061901,\n",
       "       0.08769581, 0.08495532, 0.08238092, 0.07995795, 0.07767343,\n",
       "       0.07551584, 0.07347487, 0.07154132, 0.06970693, 0.06796426,\n",
       "       0.06630659, 0.06472786, 0.06322256, 0.06178569, 0.06041267,\n",
       "       0.05909935, 0.05784192, 0.05663688, 0.05548102, 0.0543714 ,\n",
       "       0.0533053 , 0.0522802 , 0.05129378, 0.05034389, 0.04942855,\n",
       "       0.0485459 , 0.04769421, 0.0468719 , 0.04607746, 0.0453095 ,\n",
       "       0.04456672, 0.04384791, 0.04315191, 0.04247766, 0.04182416,\n",
       "       0.04119046, 0.04057567, 0.03997897, 0.03939957, 0.03883672,\n",
       "       0.03828972, 0.03775792, 0.03724069, 0.03673744, 0.0362476 ,\n",
       "       0.03577066, 0.03530611, 0.03485346, 0.03441228, 0.03398213,\n",
       "       0.0335626 , 0.0331533 , 0.03275386, 0.03236393, 0.03198318,\n",
       "       0.03161128, 0.03124793, 0.03089284, 0.03054573, 0.03020634,\n",
       "       0.0298744 , 0.02954968, 0.02923194, 0.02892096, 0.02861653,\n",
       "       0.02831844, 0.0280265 , 0.02774051, 0.02746031])"
      ]
     },
     "execution_count": 11,
     "metadata": {},
     "output_type": "execute_result"
    }
   ],
   "source": [
    "f_scores_train"
   ]
  },
  {
   "cell_type": "code",
   "execution_count": 12,
   "metadata": {},
   "outputs": [
    {
     "data": {
      "text/plain": [
       "array([0.32432432, 0.25740026, 0.27416427, 0.231939  , 0.22364643,\n",
       "       0.20391589, 0.18982264, 0.16609481, 0.14763983, 0.13287585,\n",
       "       0.13897804, 0.13616847, 0.14107859, 0.14528726, 0.14893478,\n",
       "       0.1462053 , 0.14379694, 0.14165617, 0.13974075, 0.13801687,\n",
       "       0.13645717, 0.13503926, 0.13374465, 0.12817195, 0.12304508,\n",
       "       0.11831257, 0.11393063, 0.10986168, 0.10607334, 0.10253756,\n",
       "       0.0992299 , 0.09612897, 0.09321597, 0.09047432, 0.08788934,\n",
       "       0.08544797, 0.08313857, 0.08095071, 0.07887505, 0.07690317,\n",
       "       0.07502749, 0.07324112, 0.07153784, 0.06991198, 0.06835838,\n",
       "       0.06687232, 0.06544951, 0.06408598, 0.0627781 , 0.06152254,\n",
       "       0.06031621, 0.05915629, 0.05804013, 0.05696531, 0.05592958,\n",
       "       0.05493084, 0.05396714, 0.05303667, 0.05213774, 0.05126878,\n",
       "       0.05042831, 0.04961495, 0.04882741, 0.04806448, 0.04732503,\n",
       "       0.04660798, 0.04591234, 0.04523716, 0.04458155, 0.04394467,\n",
       "       0.04332573, 0.04272398, 0.04213872, 0.04156928, 0.04101503,\n",
       "       0.04047535, 0.0399497 , 0.03943752, 0.03893832, 0.03845159,\n",
       "       0.03797688, 0.03751374, 0.03706177, 0.03662056, 0.03618973,\n",
       "       0.03576892, 0.03535778, 0.03495599, 0.03456322, 0.03417919,\n",
       "       0.03380359, 0.03343616, 0.03307663, 0.03272475, 0.03238028,\n",
       "       0.03204299, 0.03171265, 0.03138905, 0.03107199])"
      ]
     },
     "execution_count": 12,
     "metadata": {},
     "output_type": "execute_result"
    }
   ],
   "source": [
    "f_scores_test"
   ]
  },
  {
   "cell_type": "markdown",
   "metadata": {},
   "source": [
    "<p>Each value of K value is plotted against F Score to show the K value which is maximising the test score</p>"
   ]
  },
  {
   "cell_type": "code",
   "execution_count": 13,
   "metadata": {
    "scrolled": true
   },
   "outputs": [
    {
     "data": {
      "image/png": "[encoded data removed]",
      "text/plain": [
       "<Figure size 432x288 with 1 Axes>"
      ]
     },
     "metadata": {
      "needs_background": "light"
     },
     "output_type": "display_data"
    }
   ],
   "source": [
    "plt.plot(penalties, f_scores_train, 'm--', label='F Score Train') \n",
    "plt.plot(penalties, f_scores_test, 'm', label='F Score on Test') \n",
    "plt.xlabel(r'Coefficient K', fontsize=16)\n",
    "plt.ylabel('F Score Accuracy', fontsize=16) \n",
    "plt.legend(fontsize=13, loc=1)\n",
    "plt.show()\n",
    " "
   ]
  },
  {
   "cell_type": "markdown",
   "metadata": {},
   "source": [
    "<p> The graph shows that the model initially overfits the data as the F Score is higher than in the test data. The F Score for train and test then fits better as the K Value increases</p>"
   ]
  },
  {
   "cell_type": "markdown",
   "metadata": {},
   "source": [
    "<p> The below shows the best K Value for the model</p>"
   ]
  },
  {
   "cell_type": "code",
   "execution_count": 14,
   "metadata": {},
   "outputs": [
    {
     "name": "stdout",
     "output_type": "stream",
     "text": [
      "1\n"
     ]
    }
   ],
   "source": [
    "tuned_K_value = kvalues[np.argmax(f_scores_test)]\n",
    "print(tuned_K_value)"
   ]
  },
  {
   "cell_type": "code",
   "execution_count": 15,
   "metadata": {},
   "outputs": [
    {
     "name": "stdout",
     "output_type": "stream",
     "text": [
      "K Value: 1\n",
      "F Score on Train: 1.0\n",
      "F Score on Test: 0.32432432432432423\n"
     ]
    }
   ],
   "source": [
    "print(\"K Value:\", kvalues[np.argmax(f_scores_train)])\n",
    "print(\"F Score on Train:\", f_scores_train [np.argmax(f_scores_train)])\n",
    "print(\"F Score on Test:\",f_scores_test[np.argmax(f_scores_test)])"
   ]
  },
  {
   "cell_type": "markdown",
   "metadata": {},
   "source": [
    "<h6> The below compares the KNN model to a baseline</h6>"
   ]
  },
  {
   "cell_type": "code",
   "execution_count": 19,
   "metadata": {},
   "outputs": [
    {
     "name": "stdout",
     "output_type": "stream",
     "text": [
      "0\n"
     ]
    }
   ],
   "source": [
    "def zero_rule_algorithm_classification(x_train, x_test):\n",
    "    output_values = [row for row in x_train]\n",
    "    prediction = max(set(output_values), key=output_values.count)\n",
    "    predicted = [prediction for i in range(len(x_train))]\n",
    "    return predicted\n",
    "\n",
    "seed(1)\n",
    "predictions = zero_rule_algorithm_classification(mydata.y, x_test)\n",
    "print(max(predictions))"
   ]
  },
  {
   "cell_type": "code",
   "execution_count": 20,
   "metadata": {
    "scrolled": true
   },
   "outputs": [
    {
     "name": "stdout",
     "output_type": "stream",
     "text": [
      "Confusion Matrix :\n",
      "[[855   0]\n",
      " [145   0]]\n",
      "Accuracy Score : 0.855\n",
      "Report : \n",
      "              precision    recall  f1-score   support\n",
      "\n",
      "           0       0.85      1.00      0.92       855\n",
      "           1       0.00      0.00      0.00       145\n",
      "\n",
      "    accuracy                           0.85      1000\n",
      "   macro avg       0.43      0.50      0.46      1000\n",
      "weighted avg       0.73      0.85      0.79      1000\n",
      "\n"
     ]
    }
   ],
   "source": [
    "from sklearn.metrics import confusion_matrix \n",
    "from sklearn.metrics import accuracy_score \n",
    "from sklearn.metrics import classification_report \n",
    "actual = [mydata.y]  \n",
    "results = confusion_matrix(mydata.y, predictions) \n",
    "print('Confusion Matrix :')\n",
    "print(results) \n",
    "print('Accuracy Score :',accuracy_score(mydata.y, predictions) )\n",
    "print('Report : ')\n",
    "print(classification_report(mydata.y, predictions))"
   ]
  }
 ],
 "metadata": {
  "kernelspec": {
   "display_name": "Python 3",
   "language": "python",
   "name": "python3"
  },
  "language_info": {
   "codemirror_mode": {
    "name": "ipython",
    "version": 3
   },
   "file_extension": ".py",
   "mimetype": "text/x-python",
   "name": "python",
   "nbconvert_exporter": "python",
   "pygments_lexer": "ipython3",
   "version": "3.7.6"
  }
 },
 "nbformat": 4,
 "nbformat_minor": 2
}
